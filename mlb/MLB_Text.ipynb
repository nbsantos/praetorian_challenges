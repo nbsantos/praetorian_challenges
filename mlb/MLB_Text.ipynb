{
 "cells": [
  {
   "cell_type": "code",
   "execution_count": 29,
   "id": "fa3651db",
   "metadata": {},
   "outputs": [],
   "source": [
    "import csv\n",
    "from binascii import hexlify"
   ]
  },
  {
   "cell_type": "code",
   "execution_count": 2,
   "id": "95d6214a",
   "metadata": {},
   "outputs": [],
   "source": [
    "# Need to convert from CSV of ints.\n",
    "\n",
    "def load_datasets():\n",
    "    features = []\n",
    "    with open('features.csv', 'r') as f:\n",
    "        reader = csv.reader(f)\n",
    "        for l in reader:\n",
    "            ba = bytearray(int(b) for b in l)\n",
    "            features.append(hexlify(ba))\n",
    "    labels = [l for l in csv.reader(open('labels.csv', 'r'))]\n",
    "    return features, labels"
   ]
  },
  {
   "cell_type": "code",
   "execution_count": 3,
   "id": "6656a127",
   "metadata": {},
   "outputs": [],
   "source": [
    "X, y = load_datasets()"
   ]
  },
  {
   "cell_type": "code",
   "execution_count": 4,
   "id": "0e3dad61",
   "metadata": {},
   "outputs": [],
   "source": [
    "# flatten y\n",
    "y = [arch[0] for arch in y]"
   ]
  },
  {
   "cell_type": "markdown",
   "id": "e5b81d5a",
   "metadata": {},
   "source": [
    "---"
   ]
  },
  {
   "cell_type": "code",
   "execution_count": 5,
   "id": "f6c50b72",
   "metadata": {},
   "outputs": [],
   "source": [
    "from sklearn.model_selection import train_test_split"
   ]
  },
  {
   "cell_type": "code",
   "execution_count": 6,
   "id": "bcbce624",
   "metadata": {},
   "outputs": [],
   "source": [
    "X_train, X_test, y_train, y_test = train_test_split(\n",
    "    X, y, test_size=0.33, random_state=42)"
   ]
  },
  {
   "cell_type": "markdown",
   "id": "ec45a1ce",
   "metadata": {},
   "source": [
    "---"
   ]
  },
  {
   "cell_type": "code",
   "execution_count": 7,
   "id": "3f4e1cc7",
   "metadata": {},
   "outputs": [],
   "source": [
    "from sklearn.feature_extraction.text import CountVectorizer"
   ]
  },
  {
   "cell_type": "code",
   "execution_count": 8,
   "id": "994ed858",
   "metadata": {},
   "outputs": [],
   "source": [
    "vec_opts = {\n",
    "    \"ngram_range\": (1, 4),\n",
    "    \"analyzer\": \"word\",\n",
    "    \"token_pattern\": \"..\",\n",
    "    \"min_df\": 1,\n",
    "}\n",
    "\n",
    "v = CountVectorizer(**vec_opts)\n",
    "\n",
    "X_train_vec = v.fit_transform(X_train)"
   ]
  },
  {
   "cell_type": "code",
   "execution_count": 11,
   "id": "59e9b53a",
   "metadata": {},
   "outputs": [],
   "source": [
    "#for feature, freq in zip(v.inverse_transform(X_train_vec)[0], X_train_vec.A[0]):\n",
    "#    print(\"'%s' : %s\" % (feature, freq))"
   ]
  },
  {
   "cell_type": "code",
   "execution_count": 12,
   "id": "45067846",
   "metadata": {},
   "outputs": [],
   "source": [
    "from sklearn.feature_extraction.text import TfidfTransformer"
   ]
  },
  {
   "cell_type": "code",
   "execution_count": 13,
   "id": "23c4f03e",
   "metadata": {},
   "outputs": [],
   "source": [
    "idf_opts = {\"use_idf\": True}\n",
    "\n",
    "idf = TfidfTransformer(**idf_opts)\n",
    "\n",
    "X_train_idf = idf.fit_transform(X_train_vec)"
   ]
  },
  {
   "cell_type": "markdown",
   "id": "e401fe05",
   "metadata": {},
   "source": [
    "---"
   ]
  },
  {
   "cell_type": "code",
   "execution_count": 14,
   "id": "0b4748ec",
   "metadata": {},
   "outputs": [],
   "source": [
    "from sklearn.pipeline import Pipeline"
   ]
  },
  {
   "cell_type": "code",
   "execution_count": 15,
   "id": "fd01cd5b",
   "metadata": {},
   "outputs": [],
   "source": [
    "trans_pipeline = Pipeline([\n",
    "    ('vec', CountVectorizer(**vec_opts)),\n",
    "    ('idf', TfidfTransformer(**idf_opts)),\n",
    "])"
   ]
  },
  {
   "cell_type": "code",
   "execution_count": 16,
   "id": "5361a4ff",
   "metadata": {},
   "outputs": [],
   "source": [
    "X_train_idf = trans_pipeline.fit_transform(X_train, y_train)"
   ]
  },
  {
   "cell_type": "code",
   "execution_count": 17,
   "id": "85315b93",
   "metadata": {},
   "outputs": [],
   "source": [
    "X_test_idf = trans_pipeline.transform(X_test)"
   ]
  },
  {
   "cell_type": "markdown",
   "id": "0029979a",
   "metadata": {},
   "source": [
    "---"
   ]
  },
  {
   "cell_type": "code",
   "execution_count": 18,
   "id": "04c2fb36",
   "metadata": {},
   "outputs": [],
   "source": [
    "from sklearn.naive_bayes import MultinomialNB"
   ]
  },
  {
   "cell_type": "code",
   "execution_count": 19,
   "id": "f89c6562",
   "metadata": {},
   "outputs": [],
   "source": [
    "clf1 = MultinomialNB().fit(X_train_idf, y_train)"
   ]
  },
  {
   "cell_type": "code",
   "execution_count": 20,
   "id": "73a26fc3",
   "metadata": {},
   "outputs": [
    {
     "data": {
      "text/plain": [
       "0.9937107715716731"
      ]
     },
     "execution_count": 20,
     "metadata": {},
     "output_type": "execute_result"
    }
   ],
   "source": [
    "clf1.score(X_test_idf, y_test)"
   ]
  },
  {
   "cell_type": "markdown",
   "id": "a602ea11",
   "metadata": {},
   "source": [
    "---"
   ]
  },
  {
   "cell_type": "code",
   "execution_count": 21,
   "id": "dd0d9c95",
   "metadata": {},
   "outputs": [],
   "source": [
    "from sklearn.linear_model import SGDClassifier"
   ]
  },
  {
   "cell_type": "code",
   "execution_count": 22,
   "id": "231ed5da",
   "metadata": {},
   "outputs": [],
   "source": [
    "clf2 = SGDClassifier().fit(X_train_idf, y_train)"
   ]
  },
  {
   "cell_type": "code",
   "execution_count": 23,
   "id": "f93693a7",
   "metadata": {},
   "outputs": [
    {
     "data": {
      "text/plain": [
       "0.9940784885563938"
      ]
     },
     "execution_count": 23,
     "metadata": {},
     "output_type": "execute_result"
    }
   ],
   "source": [
    "clf2.score(X_test_idf, y_test)"
   ]
  },
  {
   "cell_type": "markdown",
   "id": "bdbfa664",
   "metadata": {},
   "source": [
    "---"
   ]
  },
  {
   "cell_type": "code",
   "execution_count": 38,
   "id": "c37e3585",
   "metadata": {},
   "outputs": [],
   "source": [
    "X_trans = trans_pipeline.fit_transform(X, y)"
   ]
  },
  {
   "cell_type": "code",
   "execution_count": 26,
   "id": "e43e31b7",
   "metadata": {},
   "outputs": [],
   "source": [
    "clf = SGDClassifier().fit(X_trans, y)"
   ]
  },
  {
   "cell_type": "code",
   "execution_count": 28,
   "id": "9d2ec126",
   "metadata": {},
   "outputs": [
    {
     "data": {
      "text/plain": [
       "0.995003807818162"
      ]
     },
     "execution_count": 28,
     "metadata": {},
     "output_type": "execute_result"
    }
   ],
   "source": [
    "clf.score(X_trans, y)"
   ]
  },
  {
   "cell_type": "markdown",
   "id": "cb51e05d",
   "metadata": {},
   "source": [
    "---"
   ]
  },
  {
   "cell_type": "code",
   "execution_count": 30,
   "id": "a342422c",
   "metadata": {},
   "outputs": [],
   "source": [
    "from machine_server import Server"
   ]
  },
  {
   "cell_type": "code",
   "execution_count": 32,
   "id": "b59586ed",
   "metadata": {},
   "outputs": [
    {
     "data": {
      "text/plain": [
       "{'binary': 'EKAAhSigEIU4oBAHAAAAxCBgAMQA4ACEAKABOwAAALAQIADIJ2AAkhAgAJQQIADEIOAAxCBgABEAAABAAAAAkA==',\n",
       " 'target': ['avr', 'm68k', 'mipsel', 'sh4', 'sparc', 'x86_64']}"
      ]
     },
     "execution_count": 32,
     "metadata": {},
     "output_type": "execute_result"
    }
   ],
   "source": [
    "s = Server()\n",
    "s.get()"
   ]
  },
  {
   "cell_type": "code",
   "execution_count": 45,
   "id": "5736037d",
   "metadata": {},
   "outputs": [
    {
     "name": "stderr",
     "output_type": "stream",
     "text": [
      "2021-04-16 23:18:36,472 - machine_server - INFO - Guess:[      arm]   Answer:[      arm]   Wins:[  1]\n",
      "2021-04-16 23:18:36,788 - machine_server - INFO - Guess:[   mipsel]   Answer:[   mipsel]   Wins:[  2]\n",
      "2021-04-16 23:18:37,100 - machine_server - INFO - Guess:[   xtensa]   Answer:[   xtensa]   Wins:[  3]\n",
      "2021-04-16 23:18:37,389 - machine_server - INFO - Guess:[     m68k]   Answer:[     m68k]   Wins:[  4]\n",
      "2021-04-16 23:18:37,694 - machine_server - INFO - Guess:[      avr]   Answer:[      avr]   Wins:[  5]\n",
      "2021-04-16 23:18:37,991 - machine_server - INFO - Guess:[      sh4]   Answer:[      sh4]   Wins:[  6]\n",
      "2021-04-16 23:18:38,248 - machine_server - INFO - Guess:[      avr]   Answer:[      avr]   Wins:[  7]\n",
      "2021-04-16 23:18:38,705 - machine_server - INFO - Guess:[   x86_64]   Answer:[   x86_64]   Wins:[  8]\n",
      "2021-04-16 23:18:39,022 - machine_server - INFO - Guess:[   mipsel]   Answer:[   mipsel]   Wins:[  9]\n",
      "2021-04-16 23:18:39,366 - machine_server - INFO - Guess:[alphaev56]   Answer:[alphaev56]   Wins:[ 10]\n",
      "2021-04-16 23:18:39,654 - machine_server - INFO - Guess:[   xtensa]   Answer:[   xtensa]   Wins:[ 11]\n",
      "2021-04-16 23:18:39,917 - machine_server - INFO - Guess:[   xtensa]   Answer:[   xtensa]   Wins:[ 12]\n",
      "2021-04-16 23:18:40,351 - machine_server - INFO - Guess:[   x86_64]   Answer:[   x86_64]   Wins:[ 13]\n",
      "2021-04-16 23:18:40,834 - machine_server - INFO - Guess:[      sh4]   Answer:[      sh4]   Wins:[ 14]\n",
      "2021-04-16 23:18:41,147 - machine_server - INFO - Guess:[     mips]   Answer:[     mips]   Wins:[ 15]\n",
      "2021-04-16 23:18:41,572 - machine_server - INFO - Guess:[   x86_64]   Answer:[   x86_64]   Wins:[ 16]\n",
      "2021-04-16 23:18:41,857 - machine_server - INFO - Guess:[      avr]   Answer:[      avr]   Wins:[ 17]\n",
      "2021-04-16 23:18:42,120 - machine_server - INFO - Guess:[  powerpc]   Answer:[  powerpc]   Wins:[ 18]\n",
      "2021-04-16 23:18:42,379 - machine_server - INFO - Guess:[  powerpc]   Answer:[  powerpc]   Wins:[ 19]\n",
      "2021-04-16 23:18:42,684 - machine_server - INFO - Guess:[      arm]   Answer:[      arm]   Wins:[ 20]\n",
      "2021-04-16 23:18:43,025 - machine_server - INFO - Guess:[      arm]   Answer:[      arm]   Wins:[ 21]\n",
      "2021-04-16 23:18:43,373 - machine_server - INFO - Guess:[   mipsel]   Answer:[   mipsel]   Wins:[ 22]\n",
      "2021-04-16 23:18:43,627 - machine_server - INFO - Guess:[    sparc]   Answer:[    sparc]   Wins:[ 23]\n",
      "2021-04-16 23:18:43,948 - machine_server - INFO - Guess:[    sparc]   Answer:[    sparc]   Wins:[ 24]\n",
      "2021-04-16 23:18:44,199 - machine_server - INFO - Guess:[   mipsel]   Answer:[   mipsel]   Wins:[ 25]\n",
      "2021-04-16 23:18:44,483 - machine_server - INFO - Guess:[  powerpc]   Answer:[  powerpc]   Wins:[ 26]\n",
      "2021-04-16 23:18:44,815 - machine_server - INFO - Guess:[     m68k]   Answer:[     m68k]   Wins:[ 27]\n",
      "2021-04-16 23:18:45,061 - machine_server - INFO - Guess:[     s390]   Answer:[     s390]   Wins:[ 28]\n",
      "2021-04-16 23:18:45,313 - machine_server - INFO - Guess:[   xtensa]   Answer:[   xtensa]   Wins:[ 29]\n",
      "2021-04-16 23:18:45,590 - machine_server - INFO - Guess:[     m68k]   Answer:[     m68k]   Wins:[ 30]\n",
      "2021-04-16 23:18:45,978 - machine_server - INFO - Guess:[     m68k]   Answer:[     m68k]   Wins:[ 31]\n",
      "2021-04-16 23:18:46,226 - machine_server - INFO - Guess:[     s390]   Answer:[     s390]   Wins:[ 32]\n",
      "2021-04-16 23:18:46,566 - machine_server - INFO - Guess:[      avr]   Answer:[      avr]   Wins:[ 33]\n",
      "2021-04-16 23:18:46,897 - machine_server - INFO - Guess:[  powerpc]   Answer:[  powerpc]   Wins:[ 34]\n",
      "2021-04-16 23:18:47,166 - machine_server - INFO - Guess:[alphaev56]   Answer:[alphaev56]   Wins:[ 35]\n",
      "2021-04-16 23:18:47,436 - machine_server - INFO - Guess:[  powerpc]   Answer:[  powerpc]   Wins:[ 36]\n",
      "2021-04-16 23:18:47,709 - machine_server - INFO - Guess:[     mips]   Answer:[     mips]   Wins:[ 37]\n",
      "2021-04-16 23:18:47,982 - machine_server - INFO - Guess:[      arm]   Answer:[      arm]   Wins:[ 38]\n",
      "2021-04-16 23:18:48,237 - machine_server - INFO - Guess:[  powerpc]   Answer:[  powerpc]   Wins:[ 39]\n",
      "2021-04-16 23:18:48,583 - machine_server - INFO - Guess:[      arm]   Answer:[      arm]   Wins:[ 40]\n",
      "2021-04-16 23:18:48,944 - machine_server - INFO - Guess:[      arm]   Answer:[      arm]   Wins:[ 41]\n",
      "2021-04-16 23:18:49,249 - machine_server - INFO - Guess:[    sparc]   Answer:[    sparc]   Wins:[ 42]\n",
      "2021-04-16 23:18:49,523 - machine_server - INFO - Guess:[  powerpc]   Answer:[  powerpc]   Wins:[ 43]\n",
      "2021-04-16 23:18:49,760 - machine_server - INFO - Guess:[    sparc]   Answer:[    sparc]   Wins:[ 44]\n",
      "2021-04-16 23:18:50,013 - machine_server - INFO - Guess:[  powerpc]   Answer:[  powerpc]   Wins:[ 45]\n",
      "2021-04-16 23:18:50,305 - machine_server - INFO - Guess:[     m68k]   Answer:[     m68k]   Wins:[ 46]\n",
      "2021-04-16 23:18:50,604 - machine_server - INFO - Guess:[     mips]   Answer:[     mips]   Wins:[ 47]\n",
      "2021-04-16 23:18:50,952 - machine_server - INFO - Guess:[     mips]   Answer:[     mips]   Wins:[ 48]\n",
      "2021-04-16 23:18:51,257 - machine_server - INFO - Guess:[   xtensa]   Answer:[   xtensa]   Wins:[ 49]\n",
      "2021-04-16 23:18:51,530 - machine_server - INFO - Guess:[alphaev56]   Answer:[alphaev56]   Wins:[ 50]\n",
      "2021-04-16 23:18:51,966 - machine_server - INFO - Guess:[   x86_64]   Answer:[   x86_64]   Wins:[ 51]\n",
      "2021-04-16 23:18:52,428 - machine_server - INFO - Guess:[   x86_64]   Answer:[   x86_64]   Wins:[ 52]\n",
      "2021-04-16 23:18:52,698 - machine_server - INFO - Guess:[   mipsel]   Answer:[   mipsel]   Wins:[ 53]\n",
      "2021-04-16 23:18:53,134 - machine_server - INFO - Guess:[      sh4]   Answer:[      sh4]   Wins:[ 54]\n",
      "2021-04-16 23:18:53,367 - machine_server - INFO - Guess:[     s390]   Answer:[     s390]   Wins:[ 55]\n",
      "2021-04-16 23:18:53,681 - machine_server - INFO - Guess:[   xtensa]   Answer:[   xtensa]   Wins:[ 56]\n",
      "2021-04-16 23:18:53,954 - machine_server - INFO - Guess:[  powerpc]   Answer:[  powerpc]   Wins:[ 57]\n",
      "2021-04-16 23:18:54,218 - machine_server - INFO - Guess:[   xtensa]   Answer:[   xtensa]   Wins:[ 58]\n",
      "2021-04-16 23:18:54,471 - machine_server - INFO - Guess:[     mips]   Answer:[     mips]   Wins:[ 59]\n",
      "2021-04-16 23:18:54,695 - machine_server - INFO - Guess:[   xtensa]   Answer:[   xtensa]   Wins:[ 60]\n",
      "2021-04-16 23:18:54,998 - machine_server - INFO - Guess:[      sh4]   Answer:[      sh4]   Wins:[ 61]\n",
      "2021-04-16 23:18:55,261 - machine_server - INFO - Guess:[      avr]   Answer:[      avr]   Wins:[ 62]\n",
      "2021-04-16 23:18:55,514 - machine_server - INFO - Guess:[    sparc]   Answer:[    sparc]   Wins:[ 63]\n",
      "2021-04-16 23:18:55,853 - machine_server - INFO - Guess:[      avr]   Answer:[      avr]   Wins:[ 64]\n",
      "2021-04-16 23:18:56,110 - machine_server - INFO - Guess:[   mipsel]   Answer:[   mipsel]   Wins:[ 65]\n",
      "2021-04-16 23:18:56,525 - machine_server - INFO - Guess:[      sh4]   Answer:[      sh4]   Wins:[ 66]\n",
      "2021-04-16 23:18:56,854 - machine_server - INFO - Guess:[      arm]   Answer:[      arm]   Wins:[ 67]\n",
      "2021-04-16 23:18:57,095 - machine_server - INFO - Guess:[     m68k]   Answer:[     m68k]   Wins:[ 68]\n",
      "2021-04-16 23:18:57,347 - machine_server - INFO - Guess:[      sh4]   Answer:[      sh4]   Wins:[ 69]\n",
      "2021-04-16 23:18:57,649 - machine_server - INFO - Guess:[     m68k]   Answer:[     m68k]   Wins:[ 70]\n",
      "2021-04-16 23:18:57,962 - machine_server - INFO - Guess:[     s390]   Answer:[     s390]   Wins:[ 71]\n",
      "2021-04-16 23:18:58,212 - machine_server - INFO - Guess:[alphaev56]   Answer:[alphaev56]   Wins:[ 72]\n",
      "2021-04-16 23:18:58,514 - machine_server - INFO - Guess:[  powerpc]   Answer:[  powerpc]   Wins:[ 73]\n",
      "2021-04-16 23:18:58,782 - machine_server - INFO - Guess:[    sparc]   Answer:[    sparc]   Wins:[ 74]\n",
      "2021-04-16 23:18:59,187 - machine_server - INFO - Guess:[   mipsel]   Answer:[   mipsel]   Wins:[ 75]\n",
      "2021-04-16 23:18:59,422 - machine_server - INFO - Guess:[     mips]   Answer:[     mips]   Wins:[ 76]\n",
      "2021-04-16 23:18:59,765 - machine_server - INFO - Guess:[     mips]   Answer:[     mips]   Wins:[ 77]\n",
      "2021-04-16 23:19:00,027 - machine_server - INFO - Guess:[     mips]   Answer:[     mips]   Wins:[ 78]\n",
      "2021-04-16 23:19:00,305 - machine_server - INFO - Guess:[   xtensa]   Answer:[   xtensa]   Wins:[ 79]\n",
      "2021-04-16 23:19:00,824 - machine_server - INFO - Guess:[     m68k]   Answer:[     m68k]   Wins:[ 80]\n",
      "2021-04-16 23:19:01,135 - machine_server - INFO - Guess:[alphaev56]   Answer:[alphaev56]   Wins:[ 81]\n"
     ]
    },
    {
     "name": "stderr",
     "output_type": "stream",
     "text": [
      "2021-04-16 23:19:01,414 - machine_server - INFO - Guess:[   mipsel]   Answer:[   mipsel]   Wins:[ 82]\n",
      "2021-04-16 23:19:01,715 - machine_server - INFO - Guess:[    sparc]   Answer:[    sparc]   Wins:[ 83]\n",
      "2021-04-16 23:19:02,040 - machine_server - INFO - Guess:[   x86_64]   Answer:[   x86_64]   Wins:[ 84]\n",
      "2021-04-16 23:19:02,315 - machine_server - INFO - Guess:[      arm]   Answer:[      arm]   Wins:[ 85]\n",
      "2021-04-16 23:19:02,585 - machine_server - INFO - Guess:[      arm]   Answer:[      arm]   Wins:[ 86]\n",
      "2021-04-16 23:19:03,070 - machine_server - INFO - Guess:[     m68k]   Answer:[     m68k]   Wins:[ 87]\n",
      "2021-04-16 23:19:03,493 - machine_server - INFO - Guess:[   x86_64]   Answer:[   x86_64]   Wins:[ 88]\n",
      "2021-04-16 23:19:03,752 - machine_server - INFO - Guess:[     s390]   Answer:[     s390]   Wins:[ 89]\n",
      "2021-04-16 23:19:03,994 - machine_server - INFO - Guess:[     m68k]   Answer:[     m68k]   Wins:[ 90]\n",
      "2021-04-16 23:19:04,264 - machine_server - INFO - Guess:[    sparc]   Answer:[    sparc]   Wins:[ 91]\n",
      "2021-04-16 23:19:04,550 - machine_server - INFO - Guess:[     m68k]   Answer:[     m68k]   Wins:[ 92]\n",
      "2021-04-16 23:19:04,817 - machine_server - INFO - Guess:[     s390]   Answer:[     s390]   Wins:[ 93]\n",
      "2021-04-16 23:19:05,086 - machine_server - INFO - Guess:[alphaev56]   Answer:[alphaev56]   Wins:[ 94]\n",
      "2021-04-16 23:19:05,410 - machine_server - INFO - Guess:[alphaev56]   Answer:[alphaev56]   Wins:[ 95]\n",
      "2021-04-16 23:19:05,843 - machine_server - INFO - Guess:[      sh4]   Answer:[      sh4]   Wins:[ 96]\n",
      "2021-04-16 23:19:06,086 - machine_server - INFO - Guess:[     s390]   Answer:[     s390]   Wins:[ 97]\n",
      "2021-04-16 23:19:06,415 - machine_server - INFO - Guess:[      arm]   Answer:[      arm]   Wins:[ 98]\n",
      "2021-04-16 23:19:06,673 - machine_server - INFO - Guess:[      avr]   Answer:[      avr]   Wins:[ 99]\n",
      "2021-04-16 23:19:07,020 - machine_server - INFO - Guess:[   x86_64]   Answer:[   x86_64]   Wins:[100]\n",
      "2021-04-16 23:19:07,513 - machine_server - INFO - Guess:[   x86_64]   Answer:[   x86_64]   Wins:[101]\n",
      "2021-04-16 23:19:07,789 - machine_server - INFO - Guess:[    sparc]   Answer:[    sparc]   Wins:[102]\n",
      "2021-04-16 23:19:08,046 - machine_server - INFO - Guess:[   xtensa]   Answer:[   xtensa]   Wins:[103]\n",
      "2021-04-16 23:19:08,375 - machine_server - INFO - Guess:[     s390]   Answer:[     s390]   Wins:[104]\n",
      "2021-04-16 23:19:08,615 - machine_server - INFO - Guess:[     s390]   Answer:[     s390]   Wins:[105]\n",
      "2021-04-16 23:19:08,880 - machine_server - INFO - Guess:[   mipsel]   Answer:[   mipsel]   Wins:[106]\n",
      "2021-04-16 23:19:09,157 - machine_server - INFO - Guess:[   mipsel]   Answer:[   mipsel]   Wins:[107]\n",
      "2021-04-16 23:19:09,436 - machine_server - INFO - Guess:[      avr]   Answer:[      avr]   Wins:[108]\n",
      "2021-04-16 23:19:09,706 - machine_server - INFO - Guess:[   xtensa]   Answer:[   xtensa]   Wins:[109]\n",
      "2021-04-16 23:19:10,031 - machine_server - INFO - Guess:[  powerpc]   Answer:[  powerpc]   Wins:[110]\n",
      "2021-04-16 23:19:10,286 - machine_server - INFO - Guess:[   mipsel]   Answer:[   mipsel]   Wins:[111]\n",
      "2021-04-16 23:19:10,762 - machine_server - INFO - Guess:[     m68k]   Answer:[     m68k]   Wins:[112]\n",
      "2021-04-16 23:19:11,037 - machine_server - INFO - Guess:[     m68k]   Answer:[     m68k]   Wins:[113]\n",
      "2021-04-16 23:19:11,369 - machine_server - INFO - Guess:[      avr]   Answer:[      avr]   Wins:[114]\n",
      "2021-04-16 23:19:11,641 - machine_server - INFO - Guess:[     mips]   Answer:[     mips]   Wins:[115]\n",
      "2021-04-16 23:19:11,918 - machine_server - INFO - Guess:[     mips]   Answer:[     mips]   Wins:[116]\n",
      "2021-04-16 23:19:12,271 - machine_server - INFO - Guess:[     mips]   Answer:[     mips]   Wins:[117]\n",
      "2021-04-16 23:19:12,548 - machine_server - INFO - Guess:[   xtensa]   Answer:[   xtensa]   Wins:[118]\n",
      "2021-04-16 23:19:13,013 - machine_server - INFO - Guess:[      sh4]   Answer:[      sh4]   Wins:[119]\n",
      "2021-04-16 23:19:13,333 - machine_server - INFO - Guess:[      sh4]   Answer:[      sh4]   Wins:[120]\n",
      "2021-04-16 23:19:13,584 - machine_server - INFO - Guess:[alphaev56]   Answer:[alphaev56]   Wins:[121]\n",
      "2021-04-16 23:19:13,872 - machine_server - INFO - Guess:[alphaev56]   Answer:[alphaev56]   Wins:[122]\n",
      "2021-04-16 23:19:14,339 - machine_server - INFO - Guess:[   xtensa]   Answer:[   xtensa]   Wins:[123]\n",
      "2021-04-16 23:19:14,614 - machine_server - INFO - Guess:[     s390]   Answer:[     s390]   Wins:[124]\n",
      "2021-04-16 23:19:14,885 - machine_server - INFO - Guess:[     s390]   Answer:[     s390]   Wins:[125]\n",
      "2021-04-16 23:19:15,158 - machine_server - INFO - Guess:[  powerpc]   Answer:[  powerpc]   Wins:[126]\n",
      "2021-04-16 23:19:15,429 - machine_server - INFO - Guess:[   mipsel]   Answer:[   mipsel]   Wins:[127]\n",
      "2021-04-16 23:19:15,734 - machine_server - INFO - Guess:[      sh4]   Answer:[      sh4]   Wins:[128]\n",
      "2021-04-16 23:19:16,027 - machine_server - INFO - Guess:[   xtensa]   Answer:[   xtensa]   Wins:[129]\n",
      "2021-04-16 23:19:16,285 - machine_server - INFO - Guess:[     s390]   Answer:[     s390]   Wins:[130]\n",
      "2021-04-16 23:19:16,621 - machine_server - INFO - Guess:[  powerpc]   Answer:[  powerpc]   Wins:[131]\n",
      "2021-04-16 23:19:16,906 - machine_server - INFO - Guess:[     m68k]   Answer:[     m68k]   Wins:[132]\n",
      "2021-04-16 23:19:17,262 - machine_server - INFO - Guess:[   mipsel]   Answer:[   mipsel]   Wins:[133]\n",
      "2021-04-16 23:19:17,724 - machine_server - INFO - Guess:[     mips]   Answer:[     mips]   Wins:[134]\n",
      "2021-04-16 23:19:18,005 - machine_server - INFO - Guess:[  powerpc]   Answer:[  powerpc]   Wins:[135]\n",
      "2021-04-16 23:19:18,292 - machine_server - INFO - Guess:[      arm]   Answer:[      arm]   Wins:[136]\n",
      "2021-04-16 23:19:18,542 - machine_server - INFO - Guess:[     s390]   Answer:[     s390]   Wins:[137]\n",
      "2021-04-16 23:19:18,878 - machine_server - INFO - Guess:[   xtensa]   Answer:[   xtensa]   Wins:[138]\n",
      "2021-04-16 23:19:19,146 - machine_server - INFO - Guess:[      arm]   Answer:[      arm]   Wins:[139]\n",
      "2021-04-16 23:19:19,427 - machine_server - INFO - Guess:[     mips]   Answer:[     mips]   Wins:[140]\n",
      "2021-04-16 23:19:19,747 - machine_server - INFO - Guess:[     mips]   Answer:[     mips]   Wins:[141]\n",
      "2021-04-16 23:19:20,009 - machine_server - INFO - Guess:[    sparc]   Answer:[    sparc]   Wins:[142]\n",
      "2021-04-16 23:19:20,289 - machine_server - INFO - Guess:[  powerpc]   Answer:[  powerpc]   Wins:[143]\n",
      "2021-04-16 23:19:20,591 - machine_server - INFO - Guess:[  powerpc]   Answer:[  powerpc]   Wins:[144]\n",
      "2021-04-16 23:19:20,888 - machine_server - INFO - Guess:[   mipsel]   Answer:[   mipsel]   Wins:[145]\n",
      "2021-04-16 23:19:21,141 - machine_server - INFO - Guess:[     mips]   Answer:[     mips]   Wins:[146]\n",
      "2021-04-16 23:19:21,414 - machine_server - INFO - Guess:[  powerpc]   Answer:[  powerpc]   Wins:[147]\n",
      "2021-04-16 23:19:21,675 - machine_server - INFO - Guess:[      avr]   Answer:[      avr]   Wins:[148]\n",
      "2021-04-16 23:19:21,969 - machine_server - INFO - Guess:[    sparc]   Answer:[    sparc]   Wins:[149]\n",
      "2021-04-16 23:19:22,259 - machine_server - INFO - Guess:[    sparc]   Answer:[    sparc]   Wins:[150]\n",
      "2021-04-16 23:19:22,756 - machine_server - INFO - Guess:[     s390]   Answer:[     s390]   Wins:[151]\n",
      "2021-04-16 23:19:23,250 - machine_server - INFO - Guess:[   x86_64]   Answer:[   x86_64]   Wins:[152]\n",
      "2021-04-16 23:19:23,666 - machine_server - INFO - Guess:[  powerpc]   Answer:[  powerpc]   Wins:[153]\n",
      "2021-04-16 23:19:23,958 - machine_server - INFO - Guess:[      sh4]   Answer:[      sh4]   Wins:[154]\n",
      "2021-04-16 23:19:24,462 - machine_server - INFO - Guess:[   x86_64]   Answer:[   x86_64]   Wins:[155]\n",
      "2021-04-16 23:19:24,708 - machine_server - INFO - Guess:[      avr]   Answer:[      avr]   Wins:[156]\n",
      "2021-04-16 23:19:25,093 - machine_server - INFO - Guess:[   x86_64]   Answer:[   x86_64]   Wins:[157]\n",
      "2021-04-16 23:19:25,434 - machine_server - INFO - Guess:[alphaev56]   Answer:[alphaev56]   Wins:[158]\n",
      "2021-04-16 23:19:25,726 - machine_server - INFO - Guess:[     mips]   Answer:[     mips]   Wins:[159]\n",
      "2021-04-16 23:19:25,999 - machine_server - INFO - Guess:[    sparc]   Answer:[    sparc]   Wins:[160]\n",
      "2021-04-16 23:19:26,340 - machine_server - INFO - Guess:[      sh4]   Answer:[      sh4]   Wins:[161]\n",
      "2021-04-16 23:19:26,613 - machine_server - INFO - Guess:[     s390]   Answer:[     s390]   Wins:[162]\n"
     ]
    },
    {
     "name": "stderr",
     "output_type": "stream",
     "text": [
      "2021-04-16 23:19:26,885 - machine_server - INFO - Guess:[     s390]   Answer:[     s390]   Wins:[163]\n",
      "2021-04-16 23:19:27,148 - machine_server - INFO - Guess:[     m68k]   Answer:[     m68k]   Wins:[164]\n",
      "2021-04-16 23:19:27,396 - machine_server - INFO - Guess:[alphaev56]   Answer:[alphaev56]   Wins:[165]\n",
      "2021-04-16 23:19:27,678 - machine_server - INFO - Guess:[   mipsel]   Answer:[   mipsel]   Wins:[166]\n",
      "2021-04-16 23:19:27,992 - machine_server - INFO - Guess:[      avr]   Answer:[      avr]   Wins:[167]\n",
      "2021-04-16 23:19:28,259 - machine_server - INFO - Guess:[   xtensa]   Answer:[   xtensa]   Wins:[168]\n",
      "2021-04-16 23:19:28,515 - machine_server - INFO - Guess:[     mips]   Answer:[     mips]   Wins:[169]\n",
      "2021-04-16 23:19:28,768 - machine_server - INFO - Guess:[  powerpc]   Answer:[  powerpc]   Wins:[170]\n",
      "2021-04-16 23:19:29,119 - machine_server - INFO - Guess:[     m68k]   Answer:[     m68k]   Wins:[171]\n",
      "2021-04-16 23:19:29,397 - machine_server - INFO - Guess:[  powerpc]   Answer:[  powerpc]   Wins:[172]\n",
      "2021-04-16 23:19:29,984 - machine_server - INFO - Guess:[     m68k]   Answer:[     m68k]   Wins:[173]\n",
      "2021-04-16 23:19:30,234 - machine_server - INFO - Guess:[     s390]   Answer:[     s390]   Wins:[174]\n",
      "2021-04-16 23:19:30,502 - machine_server - INFO - Guess:[     mips]   Answer:[     mips]   Wins:[175]\n",
      "2021-04-16 23:19:30,772 - machine_server - INFO - Guess:[      sh4]   Answer:[      sh4]   Wins:[176]\n",
      "2021-04-16 23:19:31,092 - machine_server - INFO - Guess:[      avr]   Answer:[      avr]   Wins:[177]\n",
      "2021-04-16 23:19:31,366 - machine_server - INFO - Guess:[     s390]   Answer:[     s390]   Wins:[178]\n",
      "2021-04-16 23:19:31,627 - machine_server - INFO - Guess:[   xtensa]   Answer:[   xtensa]   Wins:[179]\n",
      "2021-04-16 23:19:31,888 - machine_server - INFO - Guess:[    sparc]   Answer:[    sparc]   Wins:[180]\n",
      "2021-04-16 23:19:32,202 - machine_server - INFO - Guess:[   x86_64]   Answer:[   x86_64]   Wins:[181]\n",
      "2021-04-16 23:19:32,457 - machine_server - INFO - Guess:[     s390]   Answer:[     s390]   Wins:[182]\n",
      "2021-04-16 23:19:32,729 - machine_server - INFO - Guess:[     mips]   Answer:[     mips]   Wins:[183]\n",
      "2021-04-16 23:19:33,024 - machine_server - INFO - Guess:[     mips]   Answer:[     mips]   Wins:[184]\n",
      "2021-04-16 23:19:33,287 - machine_server - INFO - Guess:[   mipsel]   Answer:[   mipsel]   Wins:[185]\n",
      "2021-04-16 23:19:33,623 - machine_server - INFO - Guess:[      arm]   Answer:[      arm]   Wins:[186]\n",
      "2021-04-16 23:19:33,925 - machine_server - INFO - Guess:[    sparc]   Answer:[    sparc]   Wins:[187]\n",
      "2021-04-16 23:19:34,411 - machine_server - INFO - Guess:[      sh4]   Answer:[      sh4]   Wins:[188]\n",
      "2021-04-16 23:19:34,714 - machine_server - INFO - Guess:[     s390]   Answer:[     s390]   Wins:[189]\n",
      "2021-04-16 23:19:35,122 - machine_server - INFO - Guess:[      arm]   Answer:[      arm]   Wins:[190]\n",
      "2021-04-16 23:19:35,441 - machine_server - INFO - Guess:[  powerpc]   Answer:[  powerpc]   Wins:[191]\n",
      "2021-04-16 23:19:35,699 - machine_server - INFO - Guess:[     s390]   Answer:[     s390]   Wins:[192]\n",
      "2021-04-16 23:19:35,953 - machine_server - INFO - Guess:[      avr]   Answer:[      avr]   Wins:[193]\n",
      "2021-04-16 23:19:36,223 - machine_server - INFO - Guess:[     s390]   Answer:[     s390]   Wins:[194]\n",
      "2021-04-16 23:19:36,493 - machine_server - INFO - Guess:[   xtensa]   Answer:[   xtensa]   Wins:[195]\n",
      "2021-04-16 23:19:36,787 - machine_server - INFO - Guess:[   mipsel]   Answer:[   mipsel]   Wins:[196]\n",
      "2021-04-16 23:19:37,092 - machine_server - INFO - Guess:[   x86_64]   Answer:[   x86_64]   Wins:[197]\n",
      "2021-04-16 23:19:37,383 - machine_server - INFO - Guess:[     m68k]   Answer:[     m68k]   Wins:[198]\n",
      "2021-04-16 23:19:37,624 - machine_server - INFO - Guess:[      avr]   Answer:[      avr]   Wins:[199]\n",
      "2021-04-16 23:19:37,872 - machine_server - INFO - Guess:[     mips]   Answer:[     mips]   Wins:[200]\n",
      "2021-04-16 23:19:38,300 - machine_server - INFO - Guess:[   x86_64]   Answer:[   x86_64]   Wins:[201]\n",
      "2021-04-16 23:19:38,561 - machine_server - INFO - Guess:[      avr]   Answer:[      avr]   Wins:[202]\n",
      "2021-04-16 23:19:38,824 - machine_server - INFO - Guess:[      sh4]   Answer:[      sh4]   Wins:[203]\n",
      "2021-04-16 23:19:39,090 - machine_server - INFO - Guess:[      arm]   Answer:[      arm]   Wins:[204]\n",
      "2021-04-16 23:19:39,328 - machine_server - INFO - Guess:[alphaev56]   Answer:[alphaev56]   Wins:[205]\n",
      "2021-04-16 23:19:39,646 - machine_server - INFO - Guess:[      arm]   Answer:[      arm]   Wins:[206]\n",
      "2021-04-16 23:19:39,902 - machine_server - INFO - Guess:[   x86_64]   Answer:[   x86_64]   Wins:[207]\n",
      "2021-04-16 23:19:40,153 - machine_server - INFO - Guess:[    sparc]   Answer:[    sparc]   Wins:[208]\n",
      "2021-04-16 23:19:40,453 - machine_server - INFO - Guess:[     s390]   Answer:[     s390]   Wins:[209]\n",
      "2021-04-16 23:19:40,753 - machine_server - INFO - Guess:[    sparc]   Answer:[    sparc]   Wins:[210]\n",
      "2021-04-16 23:19:41,040 - machine_server - INFO - Guess:[alphaev56]   Answer:[alphaev56]   Wins:[211]\n",
      "2021-04-16 23:19:41,556 - machine_server - INFO - Guess:[     m68k]   Answer:[     m68k]   Wins:[212]\n",
      "2021-04-16 23:19:41,822 - machine_server - INFO - Guess:[      sh4]   Answer:[      sh4]   Wins:[213]\n",
      "2021-04-16 23:19:42,090 - machine_server - INFO - Guess:[  powerpc]   Answer:[  powerpc]   Wins:[214]\n",
      "2021-04-16 23:19:42,328 - machine_server - INFO - Guess:[     m68k]   Answer:[     m68k]   Wins:[215]\n",
      "2021-04-16 23:19:42,651 - machine_server - INFO - Guess:[     s390]   Answer:[     s390]   Wins:[216]\n",
      "2021-04-16 23:19:42,910 - machine_server - INFO - Guess:[      sh4]   Answer:[      sh4]   Wins:[217]\n",
      "2021-04-16 23:19:43,167 - machine_server - INFO - Guess:[   xtensa]   Answer:[   xtensa]   Wins:[218]\n",
      "2021-04-16 23:19:43,447 - machine_server - INFO - Guess:[     mips]   Answer:[     mips]   Wins:[219]\n",
      "2021-04-16 23:19:43,688 - machine_server - INFO - Guess:[     m68k]   Answer:[     m68k]   Wins:[220]\n",
      "2021-04-16 23:19:43,938 - machine_server - INFO - Guess:[     mips]   Answer:[     mips]   Wins:[221]\n",
      "2021-04-16 23:19:44,195 - machine_server - INFO - Guess:[      arm]   Answer:[      arm]   Wins:[222]\n",
      "2021-04-16 23:19:44,457 - machine_server - INFO - Guess:[      sh4]   Answer:[      sh4]   Wins:[223]\n",
      "2021-04-16 23:19:44,773 - machine_server - INFO - Guess:[alphaev56]   Answer:[alphaev56]   Wins:[224]\n",
      "2021-04-16 23:19:45,045 - machine_server - INFO - Guess:[      sh4]   Answer:[      sh4]   Wins:[225]\n",
      "2021-04-16 23:19:45,467 - machine_server - INFO - Guess:[     m68k]   Answer:[     m68k]   Wins:[226]\n",
      "2021-04-16 23:19:45,729 - machine_server - INFO - Guess:[      sh4]   Answer:[      sh4]   Wins:[227]\n",
      "2021-04-16 23:19:45,966 - machine_server - INFO - Guess:[     s390]   Answer:[     s390]   Wins:[228]\n",
      "2021-04-16 23:19:46,247 - machine_server - INFO - Guess:[      arm]   Answer:[      arm]   Wins:[229]\n",
      "2021-04-16 23:19:46,510 - machine_server - INFO - Guess:[    sparc]   Answer:[    sparc]   Wins:[230]\n",
      "2021-04-16 23:19:46,806 - machine_server - INFO - Guess:[      arm]   Answer:[      arm]   Wins:[231]\n",
      "2021-04-16 23:19:47,082 - machine_server - INFO - Guess:[     mips]   Answer:[     mips]   Wins:[232]\n",
      "2021-04-16 23:19:47,368 - machine_server - INFO - Guess:[      arm]   Answer:[      arm]   Wins:[233]\n",
      "2021-04-16 23:19:47,612 - machine_server - INFO - Guess:[   x86_64]   Answer:[   x86_64]   Wins:[234]\n",
      "2021-04-16 23:19:47,935 - machine_server - INFO - Guess:[      arm]   Answer:[      arm]   Wins:[235]\n",
      "2021-04-16 23:19:48,196 - machine_server - INFO - Guess:[      arm]   Answer:[      arm]   Wins:[236]\n",
      "2021-04-16 23:19:48,523 - machine_server - INFO - Guess:[     s390]   Answer:[     s390]   Wins:[237]\n",
      "2021-04-16 23:19:48,795 - machine_server - INFO - Guess:[  powerpc]   Answer:[  powerpc]   Wins:[238]\n",
      "2021-04-16 23:19:49,132 - machine_server - INFO - Guess:[     mips]   Answer:[     mips]   Wins:[239]\n",
      "2021-04-16 23:19:49,403 - machine_server - INFO - Guess:[alphaev56]   Answer:[alphaev56]   Wins:[240]\n",
      "2021-04-16 23:19:49,658 - machine_server - INFO - Guess:[     s390]   Answer:[     s390]   Wins:[241]\n",
      "2021-04-16 23:19:49,912 - machine_server - INFO - Guess:[  powerpc]   Answer:[  powerpc]   Wins:[242]\n",
      "2021-04-16 23:19:50,178 - machine_server - INFO - Guess:[    sparc]   Answer:[    sparc]   Wins:[243]\n"
     ]
    },
    {
     "name": "stderr",
     "output_type": "stream",
     "text": [
      "2021-04-16 23:19:50,490 - machine_server - INFO - Guess:[   mipsel]   Answer:[   mipsel]   Wins:[244]\n",
      "2021-04-16 23:19:50,787 - machine_server - INFO - Guess:[    sparc]   Answer:[    sparc]   Wins:[245]\n",
      "2021-04-16 23:19:51,067 - machine_server - INFO - Guess:[     m68k]   Answer:[     m68k]   Wins:[246]\n",
      "2021-04-16 23:19:51,324 - machine_server - INFO - Guess:[   mipsel]   Answer:[   mipsel]   Wins:[247]\n",
      "2021-04-16 23:19:51,594 - machine_server - INFO - Guess:[  powerpc]   Answer:[  powerpc]   Wins:[248]\n",
      "2021-04-16 23:19:51,848 - machine_server - INFO - Guess:[  powerpc]   Answer:[  powerpc]   Wins:[249]\n",
      "2021-04-16 23:19:52,090 - machine_server - INFO - Guess:[    sparc]   Answer:[    sparc]   Wins:[250]\n",
      "2021-04-16 23:19:52,639 - machine_server - INFO - Guess:[     m68k]   Answer:[     m68k]   Wins:[251]\n",
      "2021-04-16 23:19:52,883 - machine_server - INFO - Guess:[  powerpc]   Answer:[  powerpc]   Wins:[252]\n",
      "2021-04-16 23:19:53,124 - machine_server - INFO - Guess:[alphaev56]   Answer:[alphaev56]   Wins:[253]\n",
      "2021-04-16 23:19:53,384 - machine_server - INFO - Guess:[     m68k]   Answer:[     m68k]   Wins:[254]\n",
      "2021-04-16 23:19:53,717 - machine_server - INFO - Guess:[      arm]   Answer:[      arm]   Wins:[255]\n",
      "2021-04-16 23:19:53,976 - machine_server - INFO - Guess:[      avr]   Answer:[      avr]   Wins:[256]\n",
      "2021-04-16 23:19:54,239 - machine_server - INFO - Guess:[     mips]   Answer:[     mips]   Wins:[257]\n",
      "2021-04-16 23:19:54,672 - machine_server - INFO - Guess:[   mipsel]   Answer:[   mipsel]   Wins:[258]\n",
      "2021-04-16 23:19:54,958 - machine_server - INFO - Guess:[      avr]   Answer:[      avr]   Wins:[259]\n",
      "2021-04-16 23:19:55,258 - machine_server - INFO - Guess:[   mipsel]   Answer:[   mipsel]   Wins:[260]\n",
      "2021-04-16 23:19:55,543 - machine_server - INFO - Guess:[      avr]   Answer:[      avr]   Wins:[261]\n",
      "2021-04-16 23:19:55,821 - machine_server - INFO - Guess:[    sparc]   Answer:[    sparc]   Wins:[262]\n",
      "2021-04-16 23:19:56,095 - machine_server - INFO - Guess:[      arm]   Answer:[      arm]   Wins:[263]\n",
      "2021-04-16 23:19:56,352 - machine_server - INFO - Guess:[   x86_64]   Answer:[   x86_64]   Wins:[264]\n",
      "2021-04-16 23:19:56,606 - machine_server - INFO - Guess:[     mips]   Answer:[     mips]   Wins:[265]\n",
      "2021-04-16 23:19:56,889 - machine_server - INFO - Guess:[     mips]   Answer:[     mips]   Wins:[266]\n",
      "2021-04-16 23:19:57,152 - machine_server - INFO - Guess:[   xtensa]   Answer:[   xtensa]   Wins:[267]\n",
      "2021-04-16 23:19:57,487 - machine_server - INFO - Guess:[   x86_64]   Answer:[   x86_64]   Wins:[268]\n",
      "2021-04-16 23:19:57,803 - machine_server - INFO - Guess:[  powerpc]   Answer:[  powerpc]   Wins:[269]\n",
      "2021-04-16 23:19:58,063 - machine_server - INFO - Guess:[    sparc]   Answer:[    sparc]   Wins:[270]\n",
      "2021-04-16 23:19:58,285 - machine_server - INFO - Guess:[   mipsel]   Answer:[   mipsel]   Wins:[271]\n",
      "2021-04-16 23:19:58,576 - machine_server - INFO - Guess:[   mipsel]   Answer:[   mipsel]   Wins:[272]\n",
      "2021-04-16 23:19:58,850 - machine_server - INFO - Guess:[     s390]   Answer:[     s390]   Wins:[273]\n",
      "2021-04-16 23:19:59,099 - machine_server - INFO - Guess:[      avr]   Answer:[      avr]   Wins:[274]\n",
      "2021-04-16 23:19:59,336 - machine_server - INFO - Guess:[    sparc]   Answer:[    sparc]   Wins:[275]\n",
      "2021-04-16 23:19:59,610 - machine_server - INFO - Guess:[     s390]   Answer:[     s390]   Wins:[276]\n",
      "2021-04-16 23:19:59,859 - machine_server - INFO - Guess:[      avr]   Answer:[      avr]   Wins:[277]\n",
      "2021-04-16 23:20:00,100 - machine_server - INFO - Guess:[   mipsel]   Answer:[   mipsel]   Wins:[278]\n",
      "2021-04-16 23:20:01,213 - machine_server - INFO - Guess:[   x86_64]   Answer:[   x86_64]   Wins:[279]\n",
      "2021-04-16 23:20:01,435 - machine_server - INFO - Guess:[      avr]   Answer:[      avr]   Wins:[280]\n",
      "2021-04-16 23:20:01,681 - machine_server - INFO - Guess:[      arm]   Answer:[      arm]   Wins:[281]\n",
      "2021-04-16 23:20:01,930 - machine_server - INFO - Guess:[      avr]   Answer:[      avr]   Wins:[282]\n",
      "2021-04-16 23:20:02,342 - machine_server - INFO - Guess:[   x86_64]   Answer:[   x86_64]   Wins:[283]\n",
      "2021-04-16 23:20:02,593 - machine_server - INFO - Guess:[   xtensa]   Answer:[   xtensa]   Wins:[284]\n",
      "2021-04-16 23:20:02,815 - machine_server - INFO - Guess:[     s390]   Answer:[     s390]   Wins:[285]\n",
      "2021-04-16 23:20:03,083 - machine_server - INFO - Guess:[    sparc]   Answer:[    sparc]   Wins:[286]\n",
      "2021-04-16 23:20:03,339 - machine_server - INFO - Guess:[   mipsel]   Answer:[   mipsel]   Wins:[287]\n",
      "2021-04-16 23:20:03,551 - machine_server - INFO - Guess:[      arm]   Answer:[      arm]   Wins:[288]\n",
      "2021-04-16 23:20:03,795 - machine_server - INFO - Guess:[      sh4]   Answer:[      sh4]   Wins:[289]\n",
      "2021-04-16 23:20:04,289 - machine_server - INFO - Guess:[     m68k]   Answer:[     m68k]   Wins:[290]\n",
      "2021-04-16 23:20:04,578 - machine_server - INFO - Guess:[     m68k]   Answer:[     m68k]   Wins:[291]\n",
      "2021-04-16 23:20:04,839 - machine_server - INFO - Guess:[  powerpc]   Answer:[  powerpc]   Wins:[292]\n",
      "2021-04-16 23:20:05,095 - machine_server - INFO - Guess:[     m68k]   Answer:[     m68k]   Wins:[293]\n",
      "2021-04-16 23:20:05,357 - machine_server - INFO - Guess:[     mips]   Answer:[     mips]   Wins:[294]\n",
      "2021-04-16 23:20:05,572 - machine_server - INFO - Guess:[    sparc]   Answer:[    sparc]   Wins:[295]\n",
      "2021-04-16 23:20:05,822 - machine_server - INFO - Guess:[  powerpc]   Answer:[  powerpc]   Wins:[296]\n",
      "2021-04-16 23:20:06,043 - machine_server - INFO - Guess:[alphaev56]   Answer:[alphaev56]   Wins:[297]\n",
      "2021-04-16 23:20:06,324 - machine_server - INFO - Guess:[     s390]   Answer:[     s390]   Wins:[298]\n",
      "2021-04-16 23:20:06,722 - machine_server - INFO - Guess:[   x86_64]   Answer:[   x86_64]   Wins:[299]\n",
      "2021-04-16 23:20:06,969 - machine_server - INFO - Guess:[   mipsel]   Answer:[   mipsel]   Wins:[300]\n",
      "2021-04-16 23:20:07,315 - machine_server - INFO - Guess:[      sh4]   Answer:[      sh4]   Wins:[301]\n",
      "2021-04-16 23:20:07,546 - machine_server - INFO - Guess:[alphaev56]   Answer:[alphaev56]   Wins:[302]\n",
      "2021-04-16 23:20:07,820 - machine_server - INFO - Guess:[      arm]   Answer:[      arm]   Wins:[303]\n",
      "2021-04-16 23:20:08,280 - machine_server - INFO - Guess:[     mips]   Answer:[     mips]   Wins:[304]\n",
      "2021-04-16 23:20:08,500 - machine_server - INFO - Guess:[   mipsel]   Answer:[   mipsel]   Wins:[305]\n",
      "2021-04-16 23:20:08,745 - machine_server - INFO - Guess:[      avr]   Answer:[      avr]   Wins:[306]\n",
      "2021-04-16 23:20:08,978 - machine_server - INFO - Guess:[      avr]   Answer:[      avr]   Wins:[307]\n",
      "2021-04-16 23:20:09,171 - machine_server - INFO - Guess:[alphaev56]   Answer:[alphaev56]   Wins:[308]\n",
      "2021-04-16 23:20:09,433 - machine_server - INFO - Guess:[     mips]   Answer:[     mips]   Wins:[309]\n",
      "2021-04-16 23:20:09,674 - machine_server - INFO - Guess:[     s390]   Answer:[     s390]   Wins:[310]\n",
      "2021-04-16 23:20:09,924 - machine_server - INFO - Guess:[      sh4]   Answer:[      sh4]   Wins:[311]\n",
      "2021-04-16 23:20:10,137 - machine_server - INFO - Guess:[  powerpc]   Answer:[  powerpc]   Wins:[312]\n",
      "2021-04-16 23:20:10,437 - machine_server - INFO - Guess:[  powerpc]   Answer:[  powerpc]   Wins:[313]\n",
      "2021-04-16 23:20:10,704 - machine_server - INFO - Guess:[      sh4]   Answer:[      sh4]   Wins:[314]\n",
      "2021-04-16 23:20:10,921 - machine_server - INFO - Guess:[   xtensa]   Answer:[   xtensa]   Wins:[315]\n",
      "2021-04-16 23:20:11,162 - machine_server - INFO - Guess:[      sh4]   Answer:[      sh4]   Wins:[316]\n",
      "2021-04-16 23:20:11,367 - machine_server - INFO - Guess:[   mipsel]   Answer:[   mipsel]   Wins:[317]\n",
      "2021-04-16 23:20:11,620 - machine_server - INFO - Guess:[      arm]   Answer:[      arm]   Wins:[318]\n",
      "2021-04-16 23:20:11,849 - machine_server - INFO - Guess:[   mipsel]   Answer:[   mipsel]   Wins:[319]\n",
      "2021-04-16 23:20:12,083 - machine_server - INFO - Guess:[    sparc]   Answer:[    sparc]   Wins:[320]\n",
      "2021-04-16 23:20:12,303 - machine_server - INFO - Guess:[      arm]   Answer:[      arm]   Wins:[321]\n",
      "2021-04-16 23:20:12,542 - machine_server - INFO - Guess:[   xtensa]   Answer:[   xtensa]   Wins:[322]\n",
      "2021-04-16 23:20:12,779 - machine_server - INFO - Guess:[     mips]   Answer:[     mips]   Wins:[323]\n",
      "2021-04-16 23:20:13,046 - machine_server - INFO - Guess:[      avr]   Answer:[      avr]   Wins:[324]\n"
     ]
    },
    {
     "name": "stderr",
     "output_type": "stream",
     "text": [
      "2021-04-16 23:20:13,291 - machine_server - INFO - Guess:[     mips]   Answer:[     mips]   Wins:[325]\n",
      "2021-04-16 23:20:13,508 - machine_server - INFO - Guess:[      avr]   Answer:[      avr]   Wins:[326]\n",
      "2021-04-16 23:20:13,726 - machine_server - INFO - Guess:[     s390]   Answer:[     s390]   Wins:[327]\n",
      "2021-04-16 23:20:14,119 - machine_server - INFO - Guess:[      sh4]   Answer:[      sh4]   Wins:[328]\n",
      "2021-04-16 23:20:14,317 - machine_server - INFO - Guess:[  powerpc]   Answer:[  powerpc]   Wins:[329]\n",
      "2021-04-16 23:20:14,613 - machine_server - INFO - Guess:[      arm]   Answer:[      arm]   Wins:[330]\n",
      "2021-04-16 23:20:15,042 - machine_server - INFO - Guess:[      sh4]   Answer:[      sh4]   Wins:[331]\n",
      "2021-04-16 23:20:15,335 - machine_server - INFO - Guess:[     m68k]   Answer:[     m68k]   Wins:[332]\n",
      "2021-04-16 23:20:15,609 - machine_server - INFO - Guess:[  powerpc]   Answer:[  powerpc]   Wins:[333]\n",
      "2021-04-16 23:20:16,134 - machine_server - INFO - Guess:[   x86_64]   Answer:[   x86_64]   Wins:[334]\n",
      "2021-04-16 23:20:16,331 - machine_server - INFO - Guess:[      avr]   Answer:[      avr]   Wins:[335]\n",
      "2021-04-16 23:20:16,556 - machine_server - INFO - Guess:[      avr]   Answer:[      avr]   Wins:[336]\n",
      "2021-04-16 23:20:16,794 - machine_server - INFO - Guess:[      arm]   Answer:[      arm]   Wins:[337]\n",
      "2021-04-16 23:20:17,013 - machine_server - INFO - Guess:[  powerpc]   Answer:[  powerpc]   Wins:[338]\n",
      "2021-04-16 23:20:17,248 - machine_server - INFO - Guess:[      arm]   Answer:[      arm]   Wins:[339]\n",
      "2021-04-16 23:20:17,458 - machine_server - INFO - Guess:[     s390]   Answer:[     s390]   Wins:[340]\n",
      "2021-04-16 23:20:17,756 - machine_server - INFO - Guess:[      arm]   Answer:[      arm]   Wins:[341]\n",
      "2021-04-16 23:20:17,975 - machine_server - INFO - Guess:[      sh4]   Answer:[      sh4]   Wins:[342]\n",
      "2021-04-16 23:20:18,239 - machine_server - INFO - Guess:[alphaev56]   Answer:[alphaev56]   Wins:[343]\n",
      "2021-04-16 23:20:18,541 - machine_server - INFO - Guess:[      avr]   Answer:[      avr]   Wins:[344]\n",
      "2021-04-16 23:20:19,451 - machine_server - INFO - Guess:[   x86_64]   Answer:[   x86_64]   Wins:[345]\n",
      "2021-04-16 23:20:19,735 - machine_server - INFO - Guess:[     s390]   Answer:[     s390]   Wins:[346]\n",
      "2021-04-16 23:20:19,950 - machine_server - INFO - Guess:[     mips]   Answer:[     mips]   Wins:[347]\n",
      "2021-04-16 23:20:20,165 - machine_server - INFO - Guess:[     s390]   Answer:[     s390]   Wins:[348]\n",
      "2021-04-16 23:20:20,416 - machine_server - INFO - Guess:[      avr]   Answer:[      avr]   Wins:[349]\n",
      "2021-04-16 23:20:20,635 - machine_server - INFO - Guess:[     s390]   Answer:[     s390]   Wins:[350]\n",
      "2021-04-16 23:20:21,123 - machine_server - INFO - Guess:[    sparc]   Answer:[    sparc]   Wins:[351]\n",
      "2021-04-16 23:20:21,346 - machine_server - INFO - Guess:[   mipsel]   Answer:[   mipsel]   Wins:[352]\n",
      "2021-04-16 23:20:21,569 - machine_server - INFO - Guess:[      avr]   Answer:[      avr]   Wins:[353]\n",
      "2021-04-16 23:20:21,822 - machine_server - INFO - Guess:[     mips]   Answer:[     mips]   Wins:[354]\n",
      "2021-04-16 23:20:22,058 - machine_server - INFO - Guess:[     mips]   Answer:[     mips]   Wins:[355]\n",
      "2021-04-16 23:20:22,296 - machine_server - INFO - Guess:[      avr]   Answer:[      avr]   Wins:[356]\n",
      "2021-04-16 23:20:22,508 - machine_server - INFO - Guess:[alphaev56]   Answer:[alphaev56]   Wins:[357]\n",
      "2021-04-16 23:20:22,750 - machine_server - INFO - Guess:[      sh4]   Answer:[      sh4]   Wins:[358]\n",
      "2021-04-16 23:20:23,194 - machine_server - INFO - Guess:[   x86_64]   Answer:[   x86_64]   Wins:[359]\n",
      "2021-04-16 23:20:23,414 - machine_server - INFO - Guess:[   xtensa]   Answer:[   xtensa]   Wins:[360]\n",
      "2021-04-16 23:20:23,677 - machine_server - INFO - Guess:[     mips]   Answer:[     mips]   Wins:[361]\n",
      "2021-04-16 23:20:23,933 - machine_server - INFO - Guess:[     s390]   Answer:[     s390]   Wins:[362]\n",
      "2021-04-16 23:20:24,359 - machine_server - INFO - Guess:[      sh4]   Answer:[      sh4]   Wins:[363]\n",
      "2021-04-16 23:20:24,643 - machine_server - INFO - Guess:[   xtensa]   Answer:[   xtensa]   Wins:[364]\n",
      "2021-04-16 23:20:24,854 - machine_server - INFO - Guess:[     s390]   Answer:[     s390]   Wins:[365]\n",
      "2021-04-16 23:20:25,072 - machine_server - INFO - Guess:[alphaev56]   Answer:[alphaev56]   Wins:[366]\n",
      "2021-04-16 23:20:25,333 - machine_server - INFO - Guess:[      sh4]   Answer:[      sh4]   Wins:[367]\n",
      "2021-04-16 23:20:25,626 - machine_server - INFO - Guess:[   mipsel]   Answer:[   mipsel]   Wins:[368]\n",
      "2021-04-16 23:20:25,866 - machine_server - INFO - Guess:[   xtensa]   Answer:[   xtensa]   Wins:[369]\n",
      "2021-04-16 23:20:26,113 - machine_server - INFO - Guess:[     m68k]   Answer:[     m68k]   Wins:[370]\n",
      "2021-04-16 23:20:26,813 - machine_server - INFO - Guess:[   x86_64]   Answer:[   x86_64]   Wins:[371]\n",
      "2021-04-16 23:20:27,038 - machine_server - INFO - Guess:[      avr]   Answer:[      avr]   Wins:[372]\n",
      "2021-04-16 23:20:27,322 - machine_server - INFO - Guess:[      arm]   Answer:[      arm]   Wins:[373]\n",
      "2021-04-16 23:20:27,618 - machine_server - INFO - Guess:[alphaev56]   Answer:[alphaev56]   Wins:[374]\n",
      "2021-04-16 23:20:27,860 - machine_server - INFO - Guess:[      sh4]   Answer:[      sh4]   Wins:[375]\n",
      "2021-04-16 23:20:28,126 - machine_server - INFO - Guess:[     mips]   Answer:[     mips]   Wins:[376]\n",
      "2021-04-16 23:20:28,385 - machine_server - INFO - Guess:[   mipsel]   Answer:[   mipsel]   Wins:[377]\n",
      "2021-04-16 23:20:28,608 - machine_server - INFO - Guess:[  powerpc]   Answer:[  powerpc]   Wins:[378]\n",
      "2021-04-16 23:20:28,840 - machine_server - INFO - Guess:[    sparc]   Answer:[    sparc]   Wins:[379]\n",
      "2021-04-16 23:20:29,081 - machine_server - INFO - Guess:[   xtensa]   Answer:[   xtensa]   Wins:[380]\n",
      "2021-04-16 23:20:29,317 - machine_server - INFO - Guess:[   mipsel]   Answer:[   mipsel]   Wins:[381]\n",
      "2021-04-16 23:20:29,536 - machine_server - INFO - Guess:[     m68k]   Answer:[     m68k]   Wins:[382]\n",
      "2021-04-16 23:20:29,774 - machine_server - INFO - Guess:[     s390]   Answer:[     s390]   Wins:[383]\n",
      "2021-04-16 23:20:29,990 - machine_server - INFO - Guess:[      avr]   Answer:[      avr]   Wins:[384]\n",
      "2021-04-16 23:20:30,226 - machine_server - INFO - Guess:[   xtensa]   Answer:[   xtensa]   Wins:[385]\n",
      "2021-04-16 23:20:30,518 - machine_server - INFO - Guess:[    sparc]   Answer:[    sparc]   Wins:[386]\n",
      "2021-04-16 23:20:30,758 - machine_server - INFO - Guess:[     mips]   Answer:[     mips]   Wins:[387]\n",
      "2021-04-16 23:20:30,976 - machine_server - INFO - Guess:[      avr]   Answer:[      avr]   Wins:[388]\n",
      "2021-04-16 23:20:31,205 - machine_server - INFO - Guess:[     mips]   Answer:[     mips]   Wins:[389]\n",
      "2021-04-16 23:20:31,424 - machine_server - INFO - Guess:[     s390]   Answer:[     s390]   Wins:[390]\n",
      "2021-04-16 23:20:31,702 - machine_server - INFO - Guess:[     s390]   Answer:[     s390]   Wins:[391]\n",
      "2021-04-16 23:20:32,209 - machine_server - INFO - Guess:[   x86_64]   Answer:[   x86_64]   Wins:[392]\n",
      "2021-04-16 23:20:33,132 - machine_server - INFO - Guess:[   x86_64]   Answer:[   x86_64]   Wins:[393]\n",
      "2021-04-16 23:20:33,421 - machine_server - INFO - Guess:[     mips]   Answer:[     mips]   Wins:[394]\n",
      "2021-04-16 23:20:33,663 - machine_server - INFO - Guess:[   xtensa]   Answer:[   xtensa]   Wins:[395]\n",
      "2021-04-16 23:20:34,090 - machine_server - INFO - Guess:[      sh4]   Answer:[      sh4]   Wins:[396]\n",
      "2021-04-16 23:20:34,493 - machine_server - INFO - Guess:[   mipsel]   Answer:[   mipsel]   Wins:[397]\n",
      "2021-04-16 23:20:34,766 - machine_server - INFO - Guess:[      sh4]   Answer:[      sh4]   Wins:[398]\n",
      "2021-04-16 23:20:35,005 - machine_server - INFO - Guess:[      avr]   Answer:[      avr]   Wins:[399]\n",
      "2021-04-16 23:20:35,310 - machine_server - INFO - Guess:[   xtensa]   Answer:[   xtensa]   Wins:[400]\n",
      "2021-04-16 23:20:35,769 - machine_server - INFO - Guess:[   mipsel]   Answer:[   mipsel]   Wins:[401]\n",
      "2021-04-16 23:20:36,001 - machine_server - INFO - Guess:[     m68k]   Answer:[     m68k]   Wins:[402]\n",
      "2021-04-16 23:20:36,206 - machine_server - INFO - Guess:[    sparc]   Answer:[    sparc]   Wins:[403]\n",
      "2021-04-16 23:20:36,489 - machine_server - INFO - Guess:[alphaev56]   Answer:[alphaev56]   Wins:[404]\n",
      "2021-04-16 23:20:36,768 - machine_server - INFO - Guess:[      arm]   Answer:[      arm]   Wins:[405]\n"
     ]
    },
    {
     "name": "stderr",
     "output_type": "stream",
     "text": [
      "2021-04-16 23:20:36,983 - machine_server - INFO - Guess:[     m68k]   Answer:[     m68k]   Wins:[406]\n",
      "2021-04-16 23:20:37,246 - machine_server - INFO - Guess:[  powerpc]   Answer:[  powerpc]   Wins:[407]\n",
      "2021-04-16 23:20:37,542 - machine_server - INFO - Guess:[  powerpc]   Answer:[  powerpc]   Wins:[408]\n",
      "2021-04-16 23:20:37,779 - machine_server - INFO - Guess:[     s390]   Answer:[     s390]   Wins:[409]\n",
      "2021-04-16 23:20:38,019 - machine_server - INFO - Guess:[      sh4]   Answer:[      sh4]   Wins:[410]\n",
      "2021-04-16 23:20:38,285 - machine_server - INFO - Guess:[      sh4]   Answer:[      sh4]   Wins:[411]\n",
      "2021-04-16 23:20:38,545 - machine_server - INFO - Guess:[     m68k]   Answer:[     m68k]   Wins:[412]\n",
      "2021-04-16 23:20:38,798 - machine_server - INFO - Guess:[  powerpc]   Answer:[  powerpc]   Wins:[413]\n",
      "2021-04-16 23:20:39,053 - machine_server - INFO - Guess:[  powerpc]   Answer:[  powerpc]   Wins:[414]\n",
      "2021-04-16 23:20:39,321 - machine_server - INFO - Guess:[      arm]   Answer:[      arm]   Wins:[415]\n",
      "2021-04-16 23:20:39,719 - machine_server - INFO - Guess:[   mipsel]   Answer:[   mipsel]   Wins:[416]\n",
      "2021-04-16 23:20:39,959 - machine_server - INFO - Guess:[  powerpc]   Answer:[  powerpc]   Wins:[417]\n",
      "2021-04-16 23:20:40,272 - machine_server - INFO - Guess:[      avr]   Answer:[      avr]   Wins:[418]\n",
      "2021-04-16 23:20:40,551 - machine_server - INFO - Guess:[   x86_64]   Answer:[   x86_64]   Wins:[419]\n",
      "2021-04-16 23:20:40,864 - machine_server - INFO - Guess:[  powerpc]   Answer:[  powerpc]   Wins:[420]\n",
      "2021-04-16 23:20:41,075 - machine_server - INFO - Guess:[     m68k]   Answer:[     m68k]   Wins:[421]\n",
      "2021-04-16 23:20:41,279 - machine_server - INFO - Guess:[   xtensa]   Answer:[   xtensa]   Wins:[422]\n",
      "2021-04-16 23:20:41,509 - machine_server - INFO - Guess:[    sparc]   Answer:[    sparc]   Wins:[423]\n",
      "2021-04-16 23:20:41,741 - machine_server - INFO - Guess:[     m68k]   Answer:[     m68k]   Wins:[424]\n",
      "2021-04-16 23:20:42,177 - machine_server - INFO - Guess:[   mipsel]   Answer:[   mipsel]   Wins:[425]\n",
      "2021-04-16 23:20:42,468 - machine_server - INFO - Guess:[     mips]   Answer:[     mips]   Wins:[426]\n",
      "2021-04-16 23:20:42,687 - machine_server - INFO - Guess:[     mips]   Answer:[     mips]   Wins:[427]\n",
      "2021-04-16 23:20:42,959 - machine_server - INFO - Guess:[     s390]   Answer:[     s390]   Wins:[428]\n",
      "2021-04-16 23:20:43,369 - machine_server - INFO - Guess:[     m68k]   Answer:[     m68k]   Wins:[429]\n",
      "2021-04-16 23:20:43,606 - machine_server - INFO - Guess:[      avr]   Answer:[      avr]   Wins:[430]\n",
      "2021-04-16 23:20:43,851 - machine_server - INFO - Guess:[alphaev56]   Answer:[alphaev56]   Wins:[431]\n",
      "2021-04-16 23:20:44,061 - machine_server - INFO - Guess:[  powerpc]   Answer:[  powerpc]   Wins:[432]\n",
      "2021-04-16 23:20:44,308 - machine_server - INFO - Guess:[   mipsel]   Answer:[   mipsel]   Wins:[433]\n",
      "2021-04-16 23:20:44,545 - machine_server - INFO - Guess:[    sparc]   Answer:[    sparc]   Wins:[434]\n",
      "2021-04-16 23:20:44,794 - machine_server - INFO - Guess:[   mipsel]   Answer:[   mipsel]   Wins:[435]\n",
      "2021-04-16 23:20:45,075 - machine_server - INFO - Guess:[   xtensa]   Answer:[   xtensa]   Wins:[436]\n",
      "2021-04-16 23:20:45,325 - machine_server - INFO - Guess:[   xtensa]   Answer:[   xtensa]   Wins:[437]\n",
      "2021-04-16 23:20:45,754 - machine_server - INFO - Guess:[   x86_64]   Answer:[   x86_64]   Wins:[438]\n",
      "2021-04-16 23:20:45,975 - machine_server - INFO - Guess:[   mipsel]   Answer:[   mipsel]   Wins:[439]\n",
      "2021-04-16 23:20:46,273 - machine_server - INFO - Guess:[      arm]   Answer:[      arm]   Wins:[440]\n",
      "2021-04-16 23:20:46,483 - machine_server - INFO - Guess:[alphaev56]   Answer:[alphaev56]   Wins:[441]\n",
      "2021-04-16 23:20:46,702 - machine_server - INFO - Guess:[   mipsel]   Answer:[   mipsel]   Wins:[442]\n",
      "2021-04-16 23:20:46,948 - machine_server - INFO - Guess:[      arm]   Answer:[      arm]   Wins:[443]\n",
      "2021-04-16 23:20:47,226 - machine_server - INFO - Guess:[  powerpc]   Answer:[  powerpc]   Wins:[444]\n",
      "2021-04-16 23:20:47,469 - machine_server - INFO - Guess:[  powerpc]   Answer:[  powerpc]   Wins:[445]\n",
      "2021-04-16 23:20:47,742 - machine_server - INFO - Guess:[   x86_64]   Answer:[   x86_64]   Wins:[446]\n",
      "2021-04-16 23:20:47,960 - machine_server - INFO - Guess:[alphaev56]   Answer:[alphaev56]   Wins:[447]\n",
      "2021-04-16 23:20:48,177 - machine_server - INFO - Guess:[   mipsel]   Answer:[   mipsel]   Wins:[448]\n",
      "2021-04-16 23:20:48,480 - machine_server - INFO - Guess:[   x86_64]   Answer:[   x86_64]   Wins:[449]\n",
      "2021-04-16 23:20:48,727 - machine_server - INFO - Guess:[   x86_64]   Answer:[   x86_64]   Wins:[450]\n",
      "2021-04-16 23:20:49,122 - machine_server - INFO - Guess:[     mips]   Answer:[     mips]   Wins:[451]\n",
      "2021-04-16 23:20:49,354 - machine_server - INFO - Guess:[     mips]   Answer:[     mips]   Wins:[452]\n",
      "2021-04-16 23:20:49,663 - machine_server - INFO - Guess:[      sh4]   Answer:[      sh4]   Wins:[453]\n",
      "2021-04-16 23:20:49,961 - machine_server - INFO - Guess:[   x86_64]   Answer:[   x86_64]   Wins:[454]\n",
      "2021-04-16 23:20:50,178 - machine_server - INFO - Guess:[   x86_64]   Answer:[   x86_64]   Wins:[455]\n",
      "2021-04-16 23:20:50,409 - machine_server - INFO - Guess:[      arm]   Answer:[      arm]   Wins:[456]\n",
      "2021-04-16 23:20:50,633 - machine_server - INFO - Guess:[alphaev56]   Answer:[alphaev56]   Wins:[457]\n",
      "2021-04-16 23:20:50,941 - machine_server - INFO - Guess:[     s390]   Answer:[     s390]   Wins:[458]\n",
      "2021-04-16 23:20:51,139 - machine_server - INFO - Guess:[    sparc]   Answer:[    sparc]   Wins:[459]\n",
      "2021-04-16 23:20:51,969 - machine_server - INFO - Guess:[   x86_64]   Answer:[   x86_64]   Wins:[460]\n",
      "2021-04-16 23:20:52,389 - machine_server - INFO - Guess:[   x86_64]   Answer:[   x86_64]   Wins:[461]\n",
      "2021-04-16 23:20:52,571 - machine_server - INFO - Guess:[    sparc]   Answer:[    sparc]   Wins:[462]\n",
      "2021-04-16 23:20:52,883 - machine_server - INFO - Guess:[     mips]   Answer:[     mips]   Wins:[463]\n",
      "2021-04-16 23:20:53,436 - machine_server - INFO - Guess:[   x86_64]   Answer:[   x86_64]   Wins:[464]\n",
      "2021-04-16 23:20:53,670 - machine_server - INFO - Guess:[      arm]   Answer:[      arm]   Wins:[465]\n",
      "2021-04-16 23:20:53,907 - machine_server - INFO - Guess:[   x86_64]   Answer:[   x86_64]   Wins:[466]\n",
      "2021-04-16 23:20:54,118 - machine_server - INFO - Guess:[     s390]   Answer:[     s390]   Wins:[467]\n",
      "2021-04-16 23:20:54,388 - machine_server - INFO - Guess:[      arm]   Answer:[      arm]   Wins:[468]\n",
      "2021-04-16 23:20:54,768 - machine_server - INFO - Guess:[     m68k]   Answer:[     m68k]   Wins:[469]\n",
      "2021-04-16 23:20:55,067 - machine_server - INFO - Guess:[   x86_64]   Answer:[   x86_64]   Wins:[470]\n",
      "2021-04-16 23:20:55,376 - machine_server - INFO - Guess:[      sh4]   Answer:[      sh4]   Wins:[471]\n",
      "2021-04-16 23:20:55,583 - machine_server - INFO - Guess:[  powerpc]   Answer:[  powerpc]   Wins:[472]\n",
      "2021-04-16 23:20:55,873 - machine_server - INFO - Guess:[  powerpc]   Answer:[  powerpc]   Wins:[473]\n",
      "2021-04-16 23:20:56,104 - machine_server - INFO - Guess:[     m68k]   Answer:[     m68k]   Wins:[474]\n",
      "2021-04-16 23:20:56,317 - machine_server - INFO - Guess:[     s390]   Answer:[     s390]   Wins:[475]\n",
      "2021-04-16 23:20:56,608 - machine_server - INFO - Guess:[      avr]   Answer:[      avr]   Wins:[476]\n",
      "2021-04-16 23:20:56,914 - machine_server - INFO - Guess:[      sh4]   Answer:[      sh4]   Wins:[477]\n",
      "2021-04-16 23:20:57,140 - machine_server - INFO - Guess:[      sh4]   Answer:[      sh4]   Wins:[478]\n",
      "2021-04-16 23:20:57,383 - machine_server - INFO - Guess:[     mips]   Answer:[     mips]   Wins:[479]\n",
      "2021-04-16 23:20:57,639 - machine_server - INFO - Guess:[     m68k]   Answer:[     m68k]   Wins:[480]\n",
      "2021-04-16 23:20:57,838 - machine_server - INFO - Guess:[   xtensa]   Answer:[   xtensa]   Wins:[481]\n",
      "2021-04-16 23:20:58,123 - machine_server - INFO - Guess:[      sh4]   Answer:[      sh4]   Wins:[482]\n",
      "2021-04-16 23:20:58,372 - machine_server - INFO - Guess:[     mips]   Answer:[     mips]   Wins:[483]\n",
      "2021-04-16 23:20:58,729 - machine_server - INFO - Guess:[      avr]   Answer:[      avr]   Wins:[484]\n",
      "2021-04-16 23:20:58,968 - machine_server - INFO - Guess:[  powerpc]   Answer:[  powerpc]   Wins:[485]\n",
      "2021-04-16 23:20:59,243 - machine_server - INFO - Guess:[     m68k]   Answer:[     m68k]   Wins:[486]\n"
     ]
    },
    {
     "name": "stderr",
     "output_type": "stream",
     "text": [
      "2021-04-16 23:20:59,462 - machine_server - INFO - Guess:[   x86_64]   Answer:[   x86_64]   Wins:[487]\n",
      "2021-04-16 23:20:59,754 - machine_server - INFO - Guess:[     s390]   Answer:[     s390]   Wins:[488]\n",
      "2021-04-16 23:21:00,088 - machine_server - INFO - Guess:[      sh4]   Answer:[      sh4]   Wins:[489]\n",
      "2021-04-16 23:21:00,325 - machine_server - INFO - Guess:[      sh4]   Answer:[      sh4]   Wins:[490]\n",
      "2021-04-16 23:21:00,584 - machine_server - INFO - Guess:[    sparc]   Answer:[    sparc]   Wins:[491]\n",
      "2021-04-16 23:21:00,873 - machine_server - INFO - Guess:[   x86_64]   Answer:[   x86_64]   Wins:[492]\n",
      "2021-04-16 23:21:01,102 - machine_server - INFO - Guess:[     mips]   Answer:[     mips]   Wins:[493]\n",
      "2021-04-16 23:21:01,730 - machine_server - INFO - Guess:[   x86_64]   Answer:[   x86_64]   Wins:[494]\n",
      "2021-04-16 23:21:02,035 - machine_server - INFO - Guess:[      avr]   Answer:[      avr]   Wins:[495]\n",
      "2021-04-16 23:21:02,245 - machine_server - INFO - Guess:[alphaev56]   Answer:[alphaev56]   Wins:[496]\n",
      "2021-04-16 23:21:02,506 - machine_server - INFO - Guess:[     mips]   Answer:[     mips]   Wins:[497]\n",
      "2021-04-16 23:21:02,741 - machine_server - INFO - Guess:[  powerpc]   Answer:[  powerpc]   Wins:[498]\n",
      "2021-04-16 23:21:03,013 - machine_server - INFO - Guess:[      avr]   Answer:[      avr]   Wins:[499]\n",
      "2021-04-16 23:21:03,441 - machine_server - INFO - Guess:[   x86_64]   Answer:[   x86_64]   Wins:[500]\n"
     ]
    },
    {
     "name": "stdout",
     "output_type": "stream",
     "text": [
      "500\n",
      "Congratulations! Collect your prize at /hash\n"
     ]
    }
   ],
   "source": [
    "s = Server()\n",
    "\n",
    "tries = 0\n",
    "while not s.hash:\n",
    "    s.get()\n",
    "\n",
    "    x = trans_pipeline.transform([hexlify(s.binary)])\n",
    "    y = clf.predict(x)[0]\n",
    "\n",
    "    s.post(y)\n",
    "\n",
    "    s.log.info(\"Guess:[{: >9}]   Answer:[{: >9}]   Wins:[{: >3}]\".format(y, s.ans, s.wins))\n",
    "    \n",
    "    tries += 1\n",
    "    \n",
    "print(tries)\n",
    "print(s.hash)"
   ]
  },
  {
   "cell_type": "code",
   "execution_count": 46,
   "id": "5102381b",
   "metadata": {},
   "outputs": [
    {
     "data": {
      "text/plain": [
       "'Congratulations! Collect your prize at /hash'"
      ]
     },
     "execution_count": 46,
     "metadata": {},
     "output_type": "execute_result"
    }
   ],
   "source": [
    "s.hash"
   ]
  },
  {
   "cell_type": "code",
   "execution_count": 48,
   "id": "bb3825d2",
   "metadata": {},
   "outputs": [
    {
     "data": {
      "text/plain": [
       "{'hash': '63beaa7765a444808c81b159f9a13c3e2bd407756bbfe691f7458c941bbfb89d7b2275736572223a20226e6273616e746f7340676d61696c2e636f6d227d'}"
      ]
     },
     "execution_count": 48,
     "metadata": {},
     "output_type": "execute_result"
    }
   ],
   "source": [
    "s._request(\"/hash?email=nbsantos@gmail.com\")"
   ]
  },
  {
   "cell_type": "code",
   "execution_count": null,
   "id": "0a2d983f",
   "metadata": {},
   "outputs": [],
   "source": []
  }
 ],
 "metadata": {
  "kernelspec": {
   "display_name": "Python 3",
   "language": "python",
   "name": "python3"
  },
  "language_info": {
   "codemirror_mode": {
    "name": "ipython",
    "version": 3
   },
   "file_extension": ".py",
   "mimetype": "text/x-python",
   "name": "python",
   "nbconvert_exporter": "python",
   "pygments_lexer": "ipython3",
   "version": "3.8.8"
  }
 },
 "nbformat": 4,
 "nbformat_minor": 5
}
